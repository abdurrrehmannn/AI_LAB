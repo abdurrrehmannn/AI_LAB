{
  "nbformat": 4,
  "nbformat_minor": 0,
  "metadata": {
    "colab": {
      "provenance": [],
      "authorship_tag": "ABX9TyP0L3qs/UxpknxOpyigjPVI",
      "include_colab_link": true
    },
    "kernelspec": {
      "name": "python3",
      "display_name": "Python 3"
    },
    "language_info": {
      "name": "python"
    }
  },
  "cells": [
    {
      "cell_type": "markdown",
      "metadata": {
        "id": "view-in-github",
        "colab_type": "text"
      },
      "source": [
        "<a href=\"https://colab.research.google.com/github/abdurrrehmannn/AI_LAB/blob/main/LAB4%265.ipynb\" target=\"_parent\"><img src=\"https://colab.research.google.com/assets/colab-badge.svg\" alt=\"Open In Colab\"/></a>"
      ]
    },
    {
      "cell_type": "markdown",
      "source": [
        "### ***1.Access List Items:***\n",
        "Create a list of fruits.\n",
        "\n",
        "Print the first and last items of the list.\n"
      ],
      "metadata": {
        "id": "jFvZP6HN4f4X"
      }
    },
    {
      "cell_type": "code",
      "execution_count": null,
      "metadata": {
        "colab": {
          "base_uri": "https://localhost:8080/"
        },
        "id": "fp3vO_x-20V3",
        "outputId": "babf9a91-c1e1-409a-d862-c1aa90d5196a"
      },
      "outputs": [
        {
          "output_type": "stream",
          "name": "stdout",
          "text": [
            "Mango\n"
          ]
        }
      ],
      "source": [
        "\n",
        "fruits = ['Apple', 'Banana', 'Mango', 'Peach', 'Guava']\n",
        "\n",
        "#print(fruits[0])  # Access the first item\n",
        "print(fruits[2])  # Access the last item\n"
      ]
    },
    {
      "cell_type": "markdown",
      "source": [
        "## ***2.Change List Items:\n",
        "Create a list of colors.\n",
        "\n",
        "\n",
        "Change the second item in the list to \"blue\"\n"
      ],
      "metadata": {
        "id": "qZeqVfG55weN"
      }
    },
    {
      "cell_type": "code",
      "source": [
        "colours=['red','green','yellow','orange']\n",
        "colours[1]='blue'\n",
        "print(colours)\n"
      ],
      "metadata": {
        "colab": {
          "base_uri": "https://localhost:8080/"
        },
        "id": "xdNpCmq55rOi",
        "outputId": "aab8a67a-0f6d-40bb-859a-06cb49d5e9b5"
      },
      "execution_count": null,
      "outputs": [
        {
          "output_type": "stream",
          "name": "stdout",
          "text": [
            "['red', 'blue', 'yellow', 'orange']\n"
          ]
        }
      ]
    },
    {
      "cell_type": "markdown",
      "source": [
        "### **3.Add List Items:**\n",
        "Create a list of numbers.\n",
        "\n",
        "\n",
        "Add the number 10 at the end of the list.\n"
      ],
      "metadata": {
        "id": "W81isI6W5_41"
      }
    },
    {
      "cell_type": "code",
      "source": [
        "\n",
        "numbers = [1,2,3,4,5]\n",
        "numbers.append(10)\n",
        "print(numbers)\n"
      ],
      "metadata": {
        "colab": {
          "base_uri": "https://localhost:8080/"
        },
        "id": "hUf7lA3I6E8n",
        "outputId": "9568be64-99c6-4c60-faf6-19690469a89f"
      },
      "execution_count": null,
      "outputs": [
        {
          "output_type": "stream",
          "name": "stdout",
          "text": [
            "[1, 2, 3, 4, 5, 10]\n"
          ]
        }
      ]
    },
    {
      "cell_type": "markdown",
      "source": [
        "### **4.Remove List Items:**\n",
        "Create a list of animals.\n",
        "\n",
        "\n",
        "Remove the third item from the list."
      ],
      "metadata": {
        "id": "Dot8XW9r6ZBV"
      }
    },
    {
      "cell_type": "code",
      "source": [
        "animals = ['dog', 'cow', 'cat', 'giraffe', 'bear']\n",
        "animals.pop(2)\n",
        "print(animals)"
      ],
      "metadata": {
        "colab": {
          "base_uri": "https://localhost:8080/"
        },
        "id": "00frAihu6huf",
        "outputId": "7e9b1a05-f3eb-4420-d3ce-9cb2d10f6f96"
      },
      "execution_count": null,
      "outputs": [
        {
          "output_type": "stream",
          "name": "stdout",
          "text": [
            "['dog', 'cow', 'giraffe', 'bear']\n"
          ]
        }
      ]
    },
    {
      "cell_type": "markdown",
      "source": [
        "### **5.Loop Lists:**\n",
        "\n",
        "Create a list of cities.\n",
        "\n",
        "\n",
        "Loop through the list and print each city."
      ],
      "metadata": {
        "id": "I5TJvze86ry2"
      }
    },
    {
      "cell_type": "code",
      "source": [
        "\n",
        "\n",
        "cities = ['London', 'Paris', 'New York', 'Tokyo', 'Sydney']\n",
        "\n",
        "for city in cities:\n",
        "  print(city)\n"
      ],
      "metadata": {
        "colab": {
          "base_uri": "https://localhost:8080/"
        },
        "id": "nVCjFSzk62rU",
        "outputId": "6b35e4e7-9ee0-4dcd-e453-cba8727475b7"
      },
      "execution_count": null,
      "outputs": [
        {
          "output_type": "stream",
          "name": "stdout",
          "text": [
            "London\n",
            "Paris\n",
            "New York\n",
            "Tokyo\n",
            "Sydney\n"
          ]
        }
      ]
    },
    {
      "cell_type": "markdown",
      "source": [
        "### **6.List Comprehension:**\n",
        "\n",
        "Create a list of numbers from 1 to 10.\n",
        "\n",
        "\n",
        "Use list comprehension to create a new list containing the square of each number."
      ],
      "metadata": {
        "id": "FCXCrpZo66AD"
      }
    },
    {
      "cell_type": "code",
      "source": [
        "\n",
        "# Create a list of numbers from 1 to 10.\n",
        "numbers = list(range(1, 11))\n",
        "\n",
        "# Use list comprehension to create a new list containing the square of each number.\n",
        "squared_numbers = [number ** 2 for number in numbers]\n",
        "\n",
        "# Print the new list.\n",
        "print(squared_numbers)\n",
        "\n"
      ],
      "metadata": {
        "colab": {
          "base_uri": "https://localhost:8080/"
        },
        "id": "4QiW0kC87EKR",
        "outputId": "5254c8a6-374d-4548-84f6-d6757273839c"
      },
      "execution_count": null,
      "outputs": [
        {
          "output_type": "stream",
          "name": "stdout",
          "text": [
            "[1, 4, 9, 16, 25, 36, 49, 64, 81, 100]\n"
          ]
        }
      ]
    },
    {
      "cell_type": "markdown",
      "source": [
        "### **7.Sort Lists:**\n",
        "\n",
        "Create a list of names.\n",
        "\n",
        "\n",
        "Sort the list alphabetically."
      ],
      "metadata": {
        "id": "kioOHBq27WUI"
      }
    },
    {
      "cell_type": "code",
      "source": [
        "\n",
        "names = ['John', 'Mary', 'Bob', 'Alice', 'David']\n",
        "names.sort()\n",
        "print(names)\n"
      ],
      "metadata": {
        "id": "YhTUPELe7abb"
      },
      "execution_count": null,
      "outputs": []
    },
    {
      "cell_type": "markdown",
      "source": [
        "### **8.Copy Lists:**\n",
        "\n",
        "Create a list of fruits.\n",
        "\n",
        "Copy the list into a new list."
      ],
      "metadata": {
        "id": "Z4_hkJl_7fPu"
      }
    },
    {
      "cell_type": "code",
      "source": [
        "\n",
        "\n",
        "fruits = ['Apple', 'Banana', 'Mango', 'Peach', 'Guava']\n",
        "\n",
        "# Copy the list into a new list.\n",
        "new_fruits = fruits.copy()\n",
        "\n",
        "# Print the new list.\n",
        "print(new_fruits)\n"
      ],
      "metadata": {
        "colab": {
          "base_uri": "https://localhost:8080/"
        },
        "id": "t5lBXjxj73rm",
        "outputId": "478cf957-11b6-4d67-8521-8f25eec4f3e5"
      },
      "execution_count": null,
      "outputs": [
        {
          "output_type": "stream",
          "name": "stdout",
          "text": [
            "['Apple', 'Banana', 'Mango', 'Peach', 'Guava']\n"
          ]
        }
      ]
    },
    {
      "cell_type": "markdown",
      "source": [
        "#9.Join Lists:\n",
        "\n",
        "Create two lists of numbers.\n",
        "\n",
        "\n",
        "Join the two lists into a single list."
      ],
      "metadata": {
        "id": "XZukDvBqBZn1"
      }
    },
    {
      "cell_type": "code",
      "source": [
        "\n",
        "\n",
        "\n",
        "list1 = [1,2,3,4,5]\n",
        "list2 = [6,7,8,9,10]\n",
        "\n",
        "joined_list = list1 + list2\n",
        "\n",
        "print(joined_list)"
      ],
      "metadata": {
        "colab": {
          "base_uri": "https://localhost:8080/"
        },
        "id": "aO8MhOHLBf5E",
        "outputId": "5048cd43-b995-4fdb-ca44-b259b4aa9bdb"
      },
      "execution_count": null,
      "outputs": [
        {
          "output_type": "stream",
          "name": "stdout",
          "text": [
            "[1, 2, 3, 4, 5, 6, 7, 8, 9, 10]\n"
          ]
        }
      ]
    },
    {
      "cell_type": "markdown",
      "source": [
        "#10.List Methods:\n",
        "Create a list of fruits.\n",
        "Use the append() method to add a new fruit to the list.\n",
        "Use the pop() method to remove the last fruit from the list."
      ],
      "metadata": {
        "id": "iGVtX2_dCBDr"
      }
    },
    {
      "cell_type": "code",
      "source": [
        "fruits = ['apple','banana','gava','peach']\n",
        "fruits.append('berry')\n",
        "fruits.pop(3)\n",
        "print(fruits)\n"
      ],
      "metadata": {
        "colab": {
          "base_uri": "https://localhost:8080/"
        },
        "id": "O4sCh-RXC15V",
        "outputId": "dc675619-6918-4b38-cbe3-0ce9d33a0aad"
      },
      "execution_count": null,
      "outputs": [
        {
          "output_type": "stream",
          "name": "stdout",
          "text": [
            "['apple', 'banana', 'gava', 'berry']\n"
          ]
        }
      ]
    },
    {
      "cell_type": "markdown",
      "source": [
        "#11.Combining Lists and List Comprehension:\n",
        "\n",
        "Create two lists, one containing numbers from 1 to 5 and another containing numbers from 6 to 10.\n",
        "\n",
        "\n",
        "Use list comprehension to create a new list that contains the sum of corresponding elements from the two lists."
      ],
      "metadata": {
        "id": "uS15PXmgDw7S"
      }
    },
    {
      "cell_type": "code",
      "source": [
        "\n",
        "\n",
        "list1 = [1,2,3,4,5]\n",
        "list2 = [6,7,8,9,10]\n",
        "\n",
        "sum_list = [a + b for a, b in zip(list1, list2)]\n",
        "\n",
        "print(sum_list)\n"
      ],
      "metadata": {
        "colab": {
          "base_uri": "https://localhost:8080/"
        },
        "id": "g_hWjuUJD2ay",
        "outputId": "719627e1-3a5d-420d-e03c-3189ac1efb49"
      },
      "execution_count": null,
      "outputs": [
        {
          "output_type": "stream",
          "name": "stdout",
          "text": [
            "[7, 9, 11, 13, 15]\n"
          ]
        }
      ]
    },
    {
      "cell_type": "markdown",
      "source": [
        "#12.Filtering and Sorting:\n",
        "Create a list of numbers.\n",
        "\n",
        "Use list comprehension to create a new list containing only the even numbers from the original list.\n",
        "\n",
        "Sort the new list in descending order."
      ],
      "metadata": {
        "id": "tDLeD0YaEMnd"
      }
    },
    {
      "cell_type": "code",
      "source": [
        "\n",
        "\n",
        "numbers = [1, 2, 3, 4, 5, 6, 7, 8, 9, 10]\n",
        "\n",
        "# Use list comprehension to create a new list containing only the even numbers from the original list.\n",
        "even_numbers = [number for number in numbers if number % 2 == 0]\n",
        "\n",
        "# Sort the new list in descending order.\n",
        "even_numbers.sort(reverse=True)\n",
        "\n",
        "# Print the new list.\n",
        "print(even_numbers)\n"
      ],
      "metadata": {
        "id": "xGO3xI6YEQgk"
      },
      "execution_count": null,
      "outputs": []
    }
  ]
}